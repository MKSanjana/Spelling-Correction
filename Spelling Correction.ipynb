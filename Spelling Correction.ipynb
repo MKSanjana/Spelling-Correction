{
  "nbformat": 4,
  "nbformat_minor": 0,
  "metadata": {
    "colab": {
      "name": "Untitled28.ipynb",
      "provenance": []
    },
    "kernelspec": {
      "name": "python3",
      "display_name": "Python 3"
    },
    "language_info": {
      "name": "python"
    }
  },
  "cells": [
    {
      "cell_type": "code",
      "execution_count": 2,
      "metadata": {
        "colab": {
          "base_uri": "https://localhost:8080/"
        },
        "id": "59wEsgdtD6YY",
        "outputId": "5c1b6acb-9842-4231-d687-702e155037e2"
      },
      "outputs": [
        {
          "output_type": "stream",
          "name": "stdout",
          "text": [
            "Wrong words : ['Data Scence', 'Algorthim']\n",
            "Corrected Words are :\n",
            "Data Science Algorthim "
          ]
        }
      ],
      "source": [
        "from textblob import TextBlob\n",
        "words = [\"Data Scence\", \"Algorthim\"]\n",
        "corrected_words = []\n",
        "for i in words:\n",
        "    corrected_words.append(TextBlob(i))\n",
        "print(\"Wrong words :\", words)\n",
        "print(\"Corrected Words are :\")\n",
        "for i in corrected_words:\n",
        "    print(i.correct(), end=\" \")"
      ]
    }
  ]
}